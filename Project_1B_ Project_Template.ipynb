{
 "cells": [
  {
   "cell_type": "markdown",
   "metadata": {},
   "source": [
    "# Part I. ETL Pipeline for Pre-Processing the Files"
   ]
  },
  {
   "cell_type": "markdown",
   "metadata": {},
   "source": [
    "#### Import Python packages "
   ]
  },
  {
   "cell_type": "code",
   "execution_count": 2,
   "metadata": {},
   "outputs": [],
   "source": [
    "# Import Python packages \n",
    "import pandas as pd\n",
    "import cassandra\n",
    "import re\n",
    "import os\n",
    "import glob\n",
    "import numpy as np\n",
    "import json\n",
    "import csv"
   ]
  },
  {
   "cell_type": "markdown",
   "metadata": {},
   "source": [
    "#### Creating list of filepaths to process original event csv data files"
   ]
  },
  {
   "cell_type": "code",
   "execution_count": 3,
   "metadata": {},
   "outputs": [
    {
     "name": "stdout",
     "output_type": "stream",
     "text": [
      "Current working directory : C:\\Users\\randas\\Desktop\\Data_modeling_cassandra\n",
      "['C:\\\\Users\\\\randas\\\\Desktop\\\\Data_modeling_cassandra/event_data\\\\2018-11-01-events.csv', 'C:\\\\Users\\\\randas\\\\Desktop\\\\Data_modeling_cassandra/event_data\\\\2018-11-02-events.csv', 'C:\\\\Users\\\\randas\\\\Desktop\\\\Data_modeling_cassandra/event_data\\\\2018-11-03-events.csv', 'C:\\\\Users\\\\randas\\\\Desktop\\\\Data_modeling_cassandra/event_data\\\\2018-11-04-events.csv', 'C:\\\\Users\\\\randas\\\\Desktop\\\\Data_modeling_cassandra/event_data\\\\2018-11-05-events.csv', 'C:\\\\Users\\\\randas\\\\Desktop\\\\Data_modeling_cassandra/event_data\\\\2018-11-06-events.csv', 'C:\\\\Users\\\\randas\\\\Desktop\\\\Data_modeling_cassandra/event_data\\\\2018-11-07-events.csv', 'C:\\\\Users\\\\randas\\\\Desktop\\\\Data_modeling_cassandra/event_data\\\\2018-11-08-events.csv', 'C:\\\\Users\\\\randas\\\\Desktop\\\\Data_modeling_cassandra/event_data\\\\2018-11-09-events.csv', 'C:\\\\Users\\\\randas\\\\Desktop\\\\Data_modeling_cassandra/event_data\\\\2018-11-10-events.csv', 'C:\\\\Users\\\\randas\\\\Desktop\\\\Data_modeling_cassandra/event_data\\\\2018-11-11-events.csv', 'C:\\\\Users\\\\randas\\\\Desktop\\\\Data_modeling_cassandra/event_data\\\\2018-11-12-events.csv', 'C:\\\\Users\\\\randas\\\\Desktop\\\\Data_modeling_cassandra/event_data\\\\2018-11-13-events.csv', 'C:\\\\Users\\\\randas\\\\Desktop\\\\Data_modeling_cassandra/event_data\\\\2018-11-14-events.csv', 'C:\\\\Users\\\\randas\\\\Desktop\\\\Data_modeling_cassandra/event_data\\\\2018-11-15-events.csv', 'C:\\\\Users\\\\randas\\\\Desktop\\\\Data_modeling_cassandra/event_data\\\\2018-11-16-events.csv', 'C:\\\\Users\\\\randas\\\\Desktop\\\\Data_modeling_cassandra/event_data\\\\2018-11-17-events.csv', 'C:\\\\Users\\\\randas\\\\Desktop\\\\Data_modeling_cassandra/event_data\\\\2018-11-18-events.csv', 'C:\\\\Users\\\\randas\\\\Desktop\\\\Data_modeling_cassandra/event_data\\\\2018-11-19-events.csv', 'C:\\\\Users\\\\randas\\\\Desktop\\\\Data_modeling_cassandra/event_data\\\\2018-11-20-events.csv', 'C:\\\\Users\\\\randas\\\\Desktop\\\\Data_modeling_cassandra/event_data\\\\2018-11-21-events.csv', 'C:\\\\Users\\\\randas\\\\Desktop\\\\Data_modeling_cassandra/event_data\\\\2018-11-22-events.csv', 'C:\\\\Users\\\\randas\\\\Desktop\\\\Data_modeling_cassandra/event_data\\\\2018-11-23-events.csv', 'C:\\\\Users\\\\randas\\\\Desktop\\\\Data_modeling_cassandra/event_data\\\\2018-11-24-events.csv', 'C:\\\\Users\\\\randas\\\\Desktop\\\\Data_modeling_cassandra/event_data\\\\2018-11-25-events.csv', 'C:\\\\Users\\\\randas\\\\Desktop\\\\Data_modeling_cassandra/event_data\\\\2018-11-26-events.csv', 'C:\\\\Users\\\\randas\\\\Desktop\\\\Data_modeling_cassandra/event_data\\\\2018-11-27-events.csv', 'C:\\\\Users\\\\randas\\\\Desktop\\\\Data_modeling_cassandra/event_data\\\\2018-11-28-events.csv', 'C:\\\\Users\\\\randas\\\\Desktop\\\\Data_modeling_cassandra/event_data\\\\2018-11-29-events.csv', 'C:\\\\Users\\\\randas\\\\Desktop\\\\Data_modeling_cassandra/event_data\\\\2018-11-30-events.csv']\n"
     ]
    }
   ],
   "source": [
    "# checking current working directory\n",
    "print(f\"Current working directory : {os.getcwd()}\")\n",
    "\n",
    "# Get current folder and subfolder event data\n",
    "filepath = os.getcwd() + '/event_data'\n",
    "\n",
    "# Create a list of files and collect each filepath\n",
    "for root, dirs, files in os.walk(filepath):\n",
    "    \n",
    "# join the file path and roots with the subdirectories using glob\n",
    "    file_path_list = glob.glob(os.path.join(root,'*'))\n",
    "    print(file_path_list)"
   ]
  },
  {
   "cell_type": "markdown",
   "metadata": {},
   "source": [
    "#### Processing the files to create the data file csv that will be used for Apache Casssandra tables"
   ]
  },
  {
   "cell_type": "code",
   "execution_count": 4,
   "metadata": {},
   "outputs": [
    {
     "name": "stdout",
     "output_type": "stream",
     "text": [
      "Total rows : 8056\n",
      "Sample data:\n",
      " [['', 'Logged In', 'Walter', 'M', '0', 'Frye', '', 'free', 'San Francisco-Oakland-Hayward, CA', 'GET', 'Home', '1.54092E+12', '38', '', '200', '1.54111E+12', '39'], ['', 'Logged In', 'Kaylee', 'F', '0', 'Summers', '', 'free', 'Phoenix-Mesa-Scottsdale, AZ', 'GET', 'Home', '1.54034E+12', '139', '', '200', '1.54111E+12', '8'], [\"Des'ree\", 'Logged In', 'Kaylee', 'F', '1', 'Summers', '246.30812', 'free', 'Phoenix-Mesa-Scottsdale, AZ', 'PUT', 'NextSong', '1.54034E+12', '139', 'You Gotta Be', '200', '1.54111E+12', '8'], ['', 'Logged In', 'Kaylee', 'F', '2', 'Summers', '', 'free', 'Phoenix-Mesa-Scottsdale, AZ', 'GET', 'Upgrade', '1.54034E+12', '139', '', '200', '1.54111E+12', '8'], ['Mr Oizo', 'Logged In', 'Kaylee', 'F', '3', 'Summers', '144.03873', 'free', 'Phoenix-Mesa-Scottsdale, AZ', 'PUT', 'NextSong', '1.54034E+12', '139', 'Flat 55', '200', '1.54111E+12', '8']]\n"
     ]
    }
   ],
   "source": [
    "# initiating an empty list of rows that will be generated from each file\n",
    "full_data_rows_list = [] \n",
    "    \n",
    "# for every filepath in the file path list \n",
    "for f in file_path_list:\n",
    "\n",
    "# reading csv file \n",
    "    with open(f, 'r', encoding = 'utf8', newline='') as csvfile: \n",
    "        # creating a csv reader object \n",
    "        csvreader = csv.reader(csvfile) \n",
    "        next(csvreader)\n",
    "        \n",
    " # extracting each data row one by one and append it        \n",
    "        for line in csvreader:\n",
    "            full_data_rows_list.append(line) \n",
    "            \n",
    "\n",
    "print(f\"Total rows : {len(full_data_rows_list)}\")\n",
    "print(f\"Sample data:\\n {full_data_rows_list[:5]}\")\n",
    "\n",
    "# creating a smaller event data csv file called event_datafile_full csv that will be used to insert data into the \\\n",
    "# Apache Cassandra tables\n",
    "csv.register_dialect('myDialect', quoting=csv.QUOTE_ALL, skipinitialspace=True)\n",
    "\n",
    "with open('event_datafile_new.csv', 'w', encoding = 'utf8', newline='') as f:\n",
    "    writer = csv.writer(f, dialect='myDialect')\n",
    "    writer.writerow(['artist','firstName','gender','itemInSession','lastName','length',\\\n",
    "                'level','location','sessionId','song','userId'])\n",
    "    for row in full_data_rows_list:\n",
    "        if (row[0] == ''):\n",
    "            continue\n",
    "        writer.writerow((row[0], row[2], row[3], row[4], row[5], row[6], row[7], row[8], row[12], row[13], row[16]))\n"
   ]
  },
  {
   "cell_type": "code",
   "execution_count": 5,
   "metadata": {},
   "outputs": [
    {
     "name": "stdout",
     "output_type": "stream",
     "text": [
      "6821\n"
     ]
    }
   ],
   "source": [
    "# checking the number of rows in new event csv file\n",
    "with open('event_datafile_new.csv', 'r', encoding = 'utf8') as f:\n",
    "    print(sum(1 for line in f))"
   ]
  },
  {
   "cell_type": "markdown",
   "metadata": {},
   "source": [
    "## Now we are ready to work with the CSV file titled <font color=red>event_datafile_new.csv</font>, located within the Workspace directory.  The event_datafile_new.csv contains the following columns: \n",
    "- artist \n",
    "- firstName of user\n",
    "- gender of user\n",
    "- item number in session\n",
    "- last name of user\n",
    "- length of the song\n",
    "- level (paid or free song)\n",
    "- location of the user\n",
    "- sessionId\n",
    "- song title\n",
    "- userId\n",
    "\n",
    "The image below is a screenshot of what the denormalized data should appear like in the <font color=red>**event_datafile_new.csv**</font> after the code above is run:<br>\n",
    "\n",
    "<img src=\"images/image_event_datafile_new.jpg\">"
   ]
  },
  {
   "cell_type": "markdown",
   "metadata": {},
   "source": [
    "#### Creating a Cluster"
   ]
  },
  {
   "cell_type": "code",
   "execution_count": 86,
   "metadata": {},
   "outputs": [
    {
     "name": "stdout",
     "output_type": "stream",
     "text": [
      "Connection Established !!\n"
     ]
    }
   ],
   "source": [
    "# This should make a connection to a Cassandra instance your local machine \n",
    "# (127.0.0.1)\n",
    "\n",
    "from cassandra.cluster import Cluster\n",
    "try:\n",
    "    cluster = Cluster(['127.0.0.1'])\n",
    "    session = cluster.connect()\n",
    "    print(\"Connection Established !!\")\n",
    "except Exception as e:\n",
    "    print(f\"Connection Failed !! Error : {e}\")"
   ]
  },
  {
   "cell_type": "markdown",
   "metadata": {},
   "source": [
    "#### Creating Keyspace"
   ]
  },
  {
   "cell_type": "code",
   "execution_count": 7,
   "metadata": {},
   "outputs": [],
   "source": [
    "keyspace_query = \"\"\"CREATE KEYSPACE IF NOT EXISTS sparkify\n",
    "                    with REPLICATION = \n",
    "                    { 'class' : 'SimpleStrategy', 'replication_factor' : 1 }\n",
    "                \"\"\"\n",
    "\n",
    "# Creating Keyspace\n",
    "try:\n",
    "    session.execute(keyspace_query)\n",
    "except Exception as e:\n",
    "    print(f\"Failed to create keyspace!! Error : {e}\")"
   ]
  },
  {
   "cell_type": "markdown",
   "metadata": {},
   "source": [
    "#### Setting Keyspace"
   ]
  },
  {
   "cell_type": "code",
   "execution_count": 88,
   "metadata": {},
   "outputs": [],
   "source": [
    "# Setting KEYSPACE to the keyspace specified above\n",
    "session.set_keyspace('sparkify')"
   ]
  },
  {
   "cell_type": "markdown",
   "metadata": {},
   "source": [
    "### Now we need to create tables to run the following queries. Remember, with Apache Cassandra we model the database tables on the queries we want to run."
   ]
  },
  {
   "cell_type": "markdown",
   "metadata": {},
   "source": [
    "## Below are the queries following which we will build out data model\n",
    "\n",
    "### 1. Give the artist, song title and song's length in the music app history that was heard during  sessionId = 338, and itemInSession  = 4\n",
    "\n",
    "\n",
    "### 2. Give only the following: name of artist, song (sorted by itemInSession) and user (first and last name) for userid = 10, sessionid = 182\n",
    "    \n",
    "\n",
    "### 3. Give every user name (first and last) in my music app history who listened to the song 'All Hands Against His Own'\n",
    "\n",
    "\n"
   ]
  },
  {
   "cell_type": "markdown",
   "metadata": {},
   "source": [
    "# ========================================================================================================"
   ]
  },
  {
   "cell_type": "code",
   "execution_count": 9,
   "metadata": {},
   "outputs": [],
   "source": [
    "# Creating table for query1 \n",
    "create_query1 = \"\"\"CREATE TABLE IF NOT EXISTS artists_song_title_length (artistName text,songTitle text,songLength float, sessionId int,itemInSession int, PRIMARY KEY(sessionId,itemInSession))\"\"\"\n",
    "\n",
    "try : \n",
    "    session.execute(create_query1)\n",
    "except Exception as e : \n",
    "    print(e)\n"
   ]
  },
  {
   "cell_type": "code",
   "execution_count": 10,
   "metadata": {},
   "outputs": [],
   "source": [
    "# Using the event file\n",
    "file = 'event_datafile_new.csv'\n",
    "\n",
    "# Reading csv file and inserting rows into cassandra tables.\n",
    "with open(file, encoding = 'utf8') as f:\n",
    "    csvreader = csv.reader(f)\n",
    "    next(csvreader) # skip header\n",
    "    for line in csvreader:\n",
    "       #print(line)\n",
    "       session.execute(\"\"\"Insert into sparkify.artists_song_title_length(artistName,songTitle,songLength,sessionId,itemInSession)VALUES(%s,%s,%s,%s,%s)\"\"\",(line[0],line[-2],float(line[-6]),int(line[-3]),int(line[3])))\n"
   ]
  },
  {
   "cell_type": "markdown",
   "metadata": {},
   "source": [
    "#### Do a SELECT to verify that the data have been inserted into each table"
   ]
  },
  {
   "cell_type": "code",
   "execution_count": 11,
   "metadata": {
    "scrolled": true
   },
   "outputs": [
    {
     "name": "stdout",
     "output_type": "stream",
     "text": [
      "Row(sessionid=338, iteminsession=4, artistname='Faithless', songlength=495.30731201171875, songtitle='Music Matters (Mark Knight Dub)')\n"
     ]
    }
   ],
   "source": [
    "# SELECT statement to verify the data was entered into the table\n",
    "select_query1 = \"\"\"Select * From sparkify.artists_song_title_length where sessionId = 338 and itemInSession = 4\"\"\"\n",
    "try:\n",
    "    rows = session.execute(select_query1)\n",
    "except Exception as e:\n",
    "    print(e)\n",
    "    \n",
    "for row in rows:\n",
    "    print(row)"
   ]
  },
  {
   "cell_type": "markdown",
   "metadata": {},
   "source": [
    "# Creating table for query2 \n",
    "# ### 2. Give only the following: name of artist, song (sorted by itemInSession) and user (first and last name) for userid = 10, sessionid = 182"
   ]
  },
  {
   "cell_type": "code",
   "execution_count": 41,
   "metadata": {},
   "outputs": [
    {
     "name": "stdout",
     "output_type": "stream",
     "text": [
      "Table Created!!\n"
     ]
    }
   ],
   "source": [
    "\n",
    "create_query2 = \"\"\"CREATE TABLE IF NOT EXISTS artists_song_table\"\"\"\n",
    "full_query2 = create_query2 + \"\"\"(sessionId int,userId int,artist text,song text,firstName text,lastName text, itemInSession int, PRIMARY KEY ((sessionId, userId), itemInSession)) WITH CLUSTERING ORDER BY (itemInSession ASC) \"\"\"\n",
    "try: \n",
    "    session.execute(full_query2)\n",
    "    print(\"Table Created!!\")\n",
    "except Exception as e:\n",
    "    print(f\"Table creation failed!! Error : {e}\")"
   ]
  },
  {
   "cell_type": "markdown",
   "metadata": {},
   "source": [
    "artist\n",
    "firstName of user\n",
    "gender of user\n",
    "item number in session\n",
    "last name of user\n",
    "length of the song\n",
    "level (paid or free song)\n",
    "location of the user\n",
    "sessionId\n",
    "song title\n",
    "userId"
   ]
  },
  {
   "cell_type": "code",
   "execution_count": 43,
   "metadata": {},
   "outputs": [],
   "source": [
    "file = 'event_datafile_new.csv'\n",
    "query = \"INSERT INTO artists_song_table (sessionId, userId, artist, song, firstName, lastName, itemInSession) \"\n",
    "query = query + \" VALUES (%s, %s, %s, %s, %s, %s, %s) \"\n",
    "\n",
    "with open(file, encoding = 'utf8') as f:\n",
    "    csvreader = csv.reader(f)\n",
    "    next(csvreader) # skip header\n",
    "    for line in csvreader:\n",
    "        try:\n",
    "            session.execute(query, (int(line[8]), int(line[10]), line[0], line[9], line[1], line[4], int(line[3])  ))\n",
    "        except Exception as e:\n",
    "            print(f\"Faild to insert  : {e}\")\n"
   ]
  },
  {
   "cell_type": "code",
   "execution_count": 45,
   "metadata": {},
   "outputs": [
    {
     "name": "stdout",
     "output_type": "stream",
     "text": [
      "Row(artist='Down To The Bone', song=\"Keep On Keepin' On\", firstname='Sylvie', lastname='Cruz')\n",
      "Row(artist='Three Drives', song='Greece 2000', firstname='Sylvie', lastname='Cruz')\n",
      "Row(artist='Sebastien Tellier', song='Kilometer', firstname='Sylvie', lastname='Cruz')\n",
      "Row(artist='Lonnie Gordon', song='Catch You Baby (Steve Pitron & Max Sanna Radio Edit)', firstname='Sylvie', lastname='Cruz')\n"
     ]
    }
   ],
   "source": [
    "# SELECT statement to verify the data was entered into the table\n",
    "\n",
    "select_query2 = \"SELECT artist, song, firstName, lastName FROM  artists_song_table where sessionId = 182 and userId = 10\"\n",
    "try:\n",
    "    rows = session.execute(select_query2)\n",
    "except Exception as e:\n",
    "    print(e)\n",
    "\n",
    "for row in rows:\n",
    "    print(row)"
   ]
  },
  {
   "cell_type": "markdown",
   "metadata": {},
   "source": [
    "## Query 3\n",
    "\n",
    "3. Give every user name (first and last) in my music app history who listened to the song 'All Hands Against His Own"
   ]
  },
  {
   "cell_type": "code",
   "execution_count": 90,
   "metadata": {},
   "outputs": [
    {
     "name": "stdout",
     "output_type": "stream",
     "text": [
      "Table Created!!\n"
     ]
    }
   ],
   "source": [
    "# Creating table for query3\n",
    "\n",
    "create_query3 = \"\"\"CREATE TABLE IF NOT EXISTS user_song\"\"\"\n",
    "full_query3= create_query3 + \"\"\"(firstName text,secondName text, song text, userId int, PRIMARY KEY ((song), userId))\"\"\"                                \n",
    "try: \n",
    "    session.execute(full_query3)\n",
    "    print(\"Table Created!!\")\n",
    "except Exception as e:\n",
    "    print(f\"Table creation failed!! Error : {e}\")"
   ]
  },
  {
   "cell_type": "code",
   "execution_count": 110,
   "metadata": {},
   "outputs": [],
   "source": [
    "file = 'event_datafile_new.csv'\n",
    "query_3 = \"INSERT INTO user_song (firstName,secondName,song,userId) \"\n",
    "query_3 = query_3 + \" VALUES (%s, %s, %s, %s) \"\n",
    "with open(file, encoding = 'utf8') as f:\n",
    "    csvreader = csv.reader(f)\n",
    "    next(csvreader) # skip header\n",
    "    for line in csvreader:\n",
    "        session.execute(query_3, (  line[1],line[4],line[9],int(line[10]) )  )"
   ]
  },
  {
   "cell_type": "code",
   "execution_count": 83,
   "metadata": {},
   "outputs": [
    {
     "name": "stdout",
     "output_type": "stream",
     "text": [
      "Row(song='All Hands Against His Own', userid=29, firstname='Jacqueline', lastname='Lynch')\n",
      "Row(song='All Hands Against His Own', userid=80, firstname='Tegan', lastname='Levine')\n",
      "Row(song='All Hands Against His Own', userid=95, firstname='Sara', lastname='Johnson')\n"
     ]
    }
   ],
   "source": [
    "# SELECT statement to verify the data was entered into the table\n",
    "select_query_3 = \"\"\"Select * From user_song where song = 'All Hands Against His Own' \"\"\"\n",
    "res = session.execute(select_query_3)\n",
    "for row in res : \n",
    "    print(row)"
   ]
  },
  {
   "cell_type": "markdown",
   "metadata": {},
   "source": [
    "### Drop the tables before closing out the sessions"
   ]
  },
  {
   "cell_type": "code",
   "execution_count": 84,
   "metadata": {},
   "outputs": [
    {
     "data": {
      "text/plain": [
       "<cassandra.cluster.ResultSet at 0x195e81c7fa0>"
      ]
     },
     "execution_count": 84,
     "metadata": {},
     "output_type": "execute_result"
    }
   ],
   "source": [
    "session.execute(\"DROP TABLE IF EXISTS sparkify.artists_song_title_length\")\n",
    "session.execute(\"DROP TABLE IF EXISTS sparkify.artists_song_table\")\n",
    "session.execute(\"DROP TABLE IF EXISTS sparkify.user_song\")"
   ]
  },
  {
   "cell_type": "markdown",
   "metadata": {},
   "source": [
    "### Close the session and cluster connection¶"
   ]
  },
  {
   "cell_type": "code",
   "execution_count": 85,
   "metadata": {},
   "outputs": [],
   "source": [
    "session.shutdown()\n",
    "cluster.shutdown()"
   ]
  },
  {
   "cell_type": "code",
   "execution_count": null,
   "metadata": {},
   "outputs": [],
   "source": []
  }
 ],
 "metadata": {
  "kernelspec": {
   "display_name": "Python 3",
   "language": "python",
   "name": "python3"
  },
  "language_info": {
   "codemirror_mode": {
    "name": "ipython",
    "version": 3
   },
   "file_extension": ".py",
   "mimetype": "text/x-python",
   "name": "python",
   "nbconvert_exporter": "python",
   "pygments_lexer": "ipython3",
   "version": "3.8.5"
  }
 },
 "nbformat": 4,
 "nbformat_minor": 4
}
